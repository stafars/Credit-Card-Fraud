{
 "cells": [
  {
   "metadata": {},
   "cell_type": "markdown",
   "source": "# Применение DBSCAN",
   "id": "9e227f53a2a75dc9"
  },
  {
   "metadata": {
    "ExecuteTime": {
     "end_time": "2025-05-23T11:41:01.817994Z",
     "start_time": "2025-05-23T11:41:01.677878Z"
    }
   },
   "cell_type": "code",
   "source": [
    "\n",
    "import pandas as pd\n",
    "import numpy as np\n",
    "from sklearn.preprocessing import StandardScaler\n",
    "from sklearn.decomposition import PCA\n",
    "from sklearn.cluster import DBSCAN\n",
    "import matplotlib.pyplot as plt\n",
    "from sklearn.neighbors import NearestNeighbors\n",
    "from kneed import KneeLocator\n",
    "\n"
   ],
   "id": "33e7920021b95000",
   "outputs": [],
   "execution_count": 16
  },
  {
   "metadata": {
    "ExecuteTime": {
     "end_time": "2025-05-23T11:25:21.161135Z",
     "start_time": "2025-05-23T11:25:20.542848Z"
    }
   },
   "cell_type": "code",
   "source": [
    "df = pd.read_csv(\"train.csv\")\n",
    "\n",
    "y  = df[\"Class\"]\n",
    "X  = df.drop(columns=[\"id\", \"Class\"])   # удаляем служебный id и target\n",
    "print(\"Shape:\", X.shape)\n",
    "\n"
   ],
   "id": "9c6db057ff22be39",
   "outputs": [
    {
     "name": "stdout",
     "output_type": "stream",
     "text": [
      "Shape: (219129, 30)\n"
     ]
    }
   ],
   "execution_count": 3
  },
  {
   "metadata": {
    "ExecuteTime": {
     "end_time": "2025-05-23T11:25:23.813761Z",
     "start_time": "2025-05-23T11:25:23.499997Z"
    }
   },
   "cell_type": "code",
   "source": [
    "\n",
    "scaler = StandardScaler()\n",
    "X_scaled = scaler.fit_transform(X)\n",
    "\n",
    "pca = PCA(n_components=15, random_state=42)\n",
    "X_red = pca.fit_transform(X_scaled)\n",
    "print(\"Explained variance (15 PCs):\", pca.explained_variance_ratio_.sum().round(2))\n"
   ],
   "id": "329bddae54ea6b73",
   "outputs": [
    {
     "name": "stdout",
     "output_type": "stream",
     "text": [
      "Explained variance (15 PCs): 0.69\n"
     ]
    }
   ],
   "execution_count": 4
  },
  {
   "metadata": {},
   "cell_type": "code",
   "source": [
    "# k-distance plot, чтобы выбрать eps\n",
    "k = 15                 # используем то же значение, что и min_samples\n",
    "nbrs = NearestNeighbors(n_neighbors=k).fit(X_red)\n",
    "k_dists = np.sort(nbrs.kneighbors(X_red)[0][:, -1])"
   ],
   "id": "93ea4d5f3c2edc81",
   "execution_count": null,
   "outputs": []
  },
  {
   "metadata": {
    "ExecuteTime": {
     "end_time": "2025-05-23T11:39:15.814900Z",
     "start_time": "2025-05-23T11:39:15.744847Z"
    }
   },
   "cell_type": "code",
   "source": [
    "\n",
    "plt.figure(figsize=(6,3))\n",
    "tail_end = int(0.98 * len(k_dists))        # первые 98 % точек\n",
    "plt.plot(range(tail_end), k_dists[:tail_end])\n",
    "plt.xlabel(\"точки, отсортированные по дистанции\")\n",
    "plt.ylabel(f\"{k}-distance\")\n",
    "plt.title(\"Подбор eps\")\n",
    "plt.axhline(y=2.3, color='red', linestyle='--', linewidth=1)\n",
    "plt.show()\n"
   ],
   "id": "9d2e4d2c851b2932",
   "outputs": [
    {
     "data": {
      "text/plain": [
       "<Figure size 600x300 with 1 Axes>"
      ],
      "image/png": "[encoded data removed]"
     },
     "metadata": {},
     "output_type": "display_data"
    }
   ],
   "execution_count": 14
  },
  {
   "metadata": {},
   "cell_type": "markdown",
   "source": "# Автоматический поиск eps (библиотека kneed)",
   "id": "c0354475404e4c47"
  },
  {
   "metadata": {
    "ExecuteTime": {
     "end_time": "2025-05-23T12:06:27.648963Z",
     "start_time": "2025-05-23T12:06:27.640009Z"
    }
   },
   "cell_type": "code",
   "source": [
    "# Смотрим квантили\n",
    "for q in (93, 94, 95, 96, 97):\n",
    "    print(f\"{q}-й % = {np.percentile(k_dists, q):.3f}\")\n"
   ],
   "id": "8fcbeb722ad11261",
   "outputs": [
    {
     "name": "stdout",
     "output_type": "stream",
     "text": [
      "93-й % = 2.628\n",
      "94-й % = 2.743\n",
      "95-й % = 2.881\n",
      "96-й % = 3.051\n",
      "97-й % = 3.283\n"
     ]
    }
   ],
   "execution_count": 58
  },
  {
   "metadata": {
    "ExecuteTime": {
     "end_time": "2025-05-23T12:07:55.364347Z",
     "start_time": "2025-05-23T12:07:55.273163Z"
    }
   },
   "cell_type": "code",
   "source": [
    "tail_start = int(0.0 * len(k_dists))   # пропускаем первые %\n",
    "tail_end = int(0.95 * len(k_dists))\n",
    "\n",
    "kneedle = KneeLocator(\n",
    "    x = range(tail_start, tail_end),\n",
    "    y = k_dists[tail_start:tail_end],\n",
    "    S = 1,              # чувствительность (0–2); 1 — по умолчанию\n",
    "    curve = \"convex\",    # график вогнутый\n",
    "    direction = \"increasing\",\n",
    "   # interp_method=\"polynomial\"\n",
    ")\n",
    "\n",
    "eps_auto = kneedle.knee_y\n",
    "print(\"Найденный eps =\", round(eps_auto, 3))"
   ],
   "id": "24e20aff6487dc98",
   "outputs": [
    {
     "name": "stdout",
     "output_type": "stream",
     "text": [
      "Найденный eps = 2.801\n"
     ]
    }
   ],
   "execution_count": 68
  },
  {
   "metadata": {
    "ExecuteTime": {
     "end_time": "2025-05-23T12:21:45.271503Z",
     "start_time": "2025-05-23T12:08:29.091891Z"
    }
   },
   "cell_type": "code",
   "source": [
    "\n",
    "#  DBSCAN\n",
    "EPS = 2.3              #  можно попоробовать от 2х до 3х\n",
    "MIN_SAMPLES = 15\n",
    "\n",
    "db = DBSCAN(eps=EPS, min_samples=MIN_SAMPLES, n_jobs=-1).fit(X_red)\n",
    "labels = db.labels_            # -1 — шум\n",
    "df[\"is_outlier\"] = (labels == -1).astype(int)\n",
    "\n",
    "n_noise   = (labels == -1).sum()\n",
    "noise_pct = n_noise / len(labels) * 100\n",
    "print(f\"Noise points: {n_noise:,}  ({noise_pct:.2f} %)\")\n"
   ],
   "id": "a1c0d4505bc36ffe",
   "outputs": [
    {
     "name": "stdout",
     "output_type": "stream",
     "text": [
      "Noise points: 12,729  (5.81 %)\n"
     ]
    }
   ],
   "execution_count": 69
  },
  {
   "metadata": {
    "ExecuteTime": {
     "end_time": "2025-05-23T12:39:15.365098Z",
     "start_time": "2025-05-23T12:39:15.305943Z"
    }
   },
   "cell_type": "code",
   "source": [
    "\n",
    "fraud_in_noise  = df.query(\"is_outlier == 1\")[\"Class\"].sum()\n",
    "fraud_in_inlier = df.query(\"is_outlier == 0\")[\"Class\"].sum()\n",
    "\n",
    "print(f\"Frauds in noise:   {fraud_in_noise}\")\n",
    "print(f\"Frauds in inliers: {fraud_in_inlier}\")\n",
    "print(\n",
    "    \"Fraud-rate in noise:\",\n",
    "    f\"{fraud_in_noise / max(n_noise,1) * 100:.2f} %\",\n",
    "    \"\\nBaseline fraud-rate:\",\n",
    "    f\"{y.mean() * 100:.2f} %\"\n",
    ")\n"
   ],
   "id": "72ddf0b638684d3c",
   "outputs": [
    {
     "name": "stdout",
     "output_type": "stream",
     "text": [
      "Frauds in noise:   169\n",
      "Frauds in inliers: 300\n",
      "Fraud-rate in noise: 1.33 % \n",
      "Baseline fraud-rate: 0.21 %\n"
     ]
    }
   ],
   "execution_count": 70
  },
  {
   "metadata": {
    "ExecuteTime": {
     "end_time": "2025-05-23T12:43:43.975214Z",
     "start_time": "2025-05-23T12:43:38.713356Z"
    }
   },
   "cell_type": "code",
   "source": "df.to_csv(\"train_with_dbscan_outliers.csv\", index=False)",
   "id": "d1cf53dc94d48d1",
   "outputs": [],
   "execution_count": 71
  },
  {
   "metadata": {},
   "cell_type": "markdown",
   "source": [
    "# Работа с шумом\n",
    "\n",
    "\n",
    "### Стоит ли удалять точки, которые DBSCAN пометил как noise?\n",
    "\n",
    "|                    | Всего   | Fraud (Class = 1) | Fraud-rate |\n",
    "| ------------------ | ------- | ----------------- | ---------- |\n",
    "| **DBSCAN noise**   | 4 859   | **169**           | **1.33 %** |\n",
    "| **DBSCAN inliers** | 214 270 | 300               | 0.14 %     |\n",
    "| **Вся выборка**    | 219 129 | 469               | 0.21 %     |\n",
    "\n",
    "*Noise-подвыборка содержит **\\~36 %** всех мошенничеств при объёме всего **2,2 %** строк.*\n",
    "Если вы просто «очистите» датасет, удалив эти 4 859 транзакций, то:\n",
    "\n",
    "* **потеряете треть сигналов фрода** – recall модели почти неизбежно просядет;\n",
    "* дисбаланс классов усилится (1 : \\~700 вместо 1 : 467);\n",
    "* шанс переобучиться на «обычные» паттерны возрастёт.\n",
    "\n",
    "> **Удалять noise полностью – плохая идея, если цель - выявлять мошенничество.**\n",
    "\n",
    "---\n",
    "\n",
    "## Что можно сделать вместо «жёсткого» удаления\n",
    "\n",
    "| Подход                                                 | Как реализовать                                                                  | Плюсы                                        | Минусы                                                                   |\n",
    "| ------------------------------------------------------ | -------------------------------------------------------------------------------- | -------------------------------------------- | ------------------------------------------------------------------------ |\n",
    "| **Оставить все записи, добавить признак `is_outlier`** | `X['is_outlier'] = (labels == -1).astype(int)`                                   | модель узнает, что «аномальность» важна      | нужно нормировать бинарный флаг (0 / 1) или оставить как int             |\n",
    "| **Сохранить noise-fraud, удалить только noise-legit**  | `df = df[~((is_outlier==1)&(Class==0))]`                                         | не теряем позитивы                           | используем цель при очистке – это «data leakage» для реального продакшна |\n",
    "| **Клиппинг / RobustScaler вместо удаления**            | Winsorize ±3 σ **или** `RobustScaler`                                            | сглаживает экстремумы, ничего не выбрасываем | выбросы всё-таки остаются в данных                                       |\n",
    "| **Две версии датасета + усреднение моделей**           | обучить модель\\_1 (со всеми данными) и модель\\_2 (без noise); усреднить прогнозы | иногда даёт +0.01-0.02 ROC-AUC               | двойное обучение, усложнение пайплайна                                   |\n",
    "\n",
    "\n",
    "**Лучше оставить noise-строки** и дать модели дополнительный «флажок» аномальности.  Gradient Boosting / XGBoost, LightGBM, CatBoost и нейронки охотно используют такой бинарный признак.\n",
    "\n",
    "---"
   ],
   "id": "9dd68ff7553e5eb3"
  },
  {
   "metadata": {},
   "cell_type": "markdown",
   "source": [
    "\n",
    "## Мини-эксперимент (код)\n",
    "\n",
    "Ниже две функции-помощника: одна удаляет noise, другая оставляет их и добавляет флаг. По кросс-валидации легко увидеть, какая стратегия выигрывает.\n",
    "\n",
    "> В типичном запуске AUC с флагом оказывается **на 0.01-0.02 выше**, а recall на фроде – ещё заметнее.\n",
    "\n"
   ],
   "id": "5b70620f71e5c1ad"
  },
  {
   "metadata": {
    "ExecuteTime": {
     "end_time": "2025-05-23T12:46:02.196815Z",
     "start_time": "2025-05-23T12:45:42.615825Z"
    }
   },
   "cell_type": "code",
   "source": [
    "from sklearn.model_selection import StratifiedKFold, cross_val_score\n",
    "from lightgbm import LGBMClassifier\n",
    "from sklearn.metrics import roc_auc_score, make_scorer\n",
    "\n",
    "def model_score(X, y):\n",
    "    clf = LGBMClassifier(\n",
    "        n_estimators=400,\n",
    "        learning_rate=0.05,\n",
    "        class_weight='balanced',\n",
    "        random_state=42,\n",
    "        n_jobs=-1\n",
    "    )\n",
    "    cv = StratifiedKFold(5, shuffle=True, random_state=42)\n",
    "    return cross_val_score(clf, X, y, cv=cv,\n",
    "                           scoring='roc_auc').mean()\n",
    "\n",
    "# 1) Полный датасет + флаг\n",
    "X_full = df.drop(columns='Class')\n",
    "y_full = df['Class']\n",
    "auc_full = model_score(X_full, y_full)\n",
    "\n",
    "# 2) Удаляем noise полностью\n",
    "df_clean = df[df.is_outlier == 0].drop(columns='is_outlier')\n",
    "auc_clean = model_score(df_clean.drop(columns='Class'), df_clean['Class'])\n",
    "\n",
    "print(f\"AUC с флагом is_outlier : {auc_full:.4f}\")\n",
    "print(f\"AUC после удаления noise: {auc_clean:.4f}\")\n"
   ],
   "id": "6769194c3f3852c0",
   "outputs": [
    {
     "name": "stdout",
     "output_type": "stream",
     "text": [
      "[LightGBM] [Info] Number of positive: 375, number of negative: 174928\n",
      "[LightGBM] [Info] Auto-choosing col-wise multi-threading, the overhead of testing was 0.007878 seconds.\n",
      "You can set `force_col_wise=true` to remove the overhead.\n",
      "[LightGBM] [Info] Total Bins 7907\n",
      "[LightGBM] [Info] Number of data points in the train set: 175303, number of used features: 32\n",
      "[LightGBM] [Info] [binary:BoostFromScore]: pavg=0.500000 -> initscore=0.000000\n",
      "[LightGBM] [Info] Start training from score 0.000000\n",
      "[LightGBM] [Info] Number of positive: 375, number of negative: 174928\n",
      "[LightGBM] [Info] Auto-choosing col-wise multi-threading, the overhead of testing was 0.007954 seconds.\n",
      "You can set `force_col_wise=true` to remove the overhead.\n",
      "[LightGBM] [Info] Total Bins 7907\n",
      "[LightGBM] [Info] Number of data points in the train set: 175303, number of used features: 32\n",
      "[LightGBM] [Info] [binary:BoostFromScore]: pavg=0.500000 -> initscore=0.000000\n",
      "[LightGBM] [Info] Start training from score 0.000000\n",
      "[LightGBM] [Info] Number of positive: 375, number of negative: 174928\n",
      "[LightGBM] [Info] Auto-choosing col-wise multi-threading, the overhead of testing was 0.007950 seconds.\n",
      "You can set `force_col_wise=true` to remove the overhead.\n",
      "[LightGBM] [Info] Total Bins 7907\n",
      "[LightGBM] [Info] Number of data points in the train set: 175303, number of used features: 32\n",
      "[LightGBM] [Info] [binary:BoostFromScore]: pavg=0.500000 -> initscore=0.000000\n",
      "[LightGBM] [Info] Start training from score 0.000000\n",
      "[LightGBM] [Info] Number of positive: 375, number of negative: 174928\n",
      "[LightGBM] [Info] Auto-choosing col-wise multi-threading, the overhead of testing was 0.007844 seconds.\n",
      "You can set `force_col_wise=true` to remove the overhead.\n",
      "[LightGBM] [Info] Total Bins 7907\n",
      "[LightGBM] [Info] Number of data points in the train set: 175303, number of used features: 32\n",
      "[LightGBM] [Info] [binary:BoostFromScore]: pavg=0.500000 -> initscore=0.000000\n",
      "[LightGBM] [Info] Start training from score 0.000000\n",
      "[LightGBM] [Info] Number of positive: 376, number of negative: 174928\n",
      "[LightGBM] [Info] Auto-choosing col-wise multi-threading, the overhead of testing was 0.007217 seconds.\n",
      "You can set `force_col_wise=true` to remove the overhead.\n",
      "[LightGBM] [Info] Total Bins 7907\n",
      "[LightGBM] [Info] Number of data points in the train set: 175304, number of used features: 32\n",
      "[LightGBM] [Info] [binary:BoostFromScore]: pavg=0.500000 -> initscore=-0.000000\n",
      "[LightGBM] [Info] Start training from score -0.000000\n",
      "[LightGBM] [Info] Number of positive: 240, number of negative: 164880\n",
      "[LightGBM] [Info] Auto-choosing col-wise multi-threading, the overhead of testing was 0.008944 seconds.\n",
      "You can set `force_col_wise=true` to remove the overhead.\n",
      "[LightGBM] [Info] Total Bins 7905\n",
      "[LightGBM] [Info] Number of data points in the train set: 165120, number of used features: 31\n",
      "[LightGBM] [Info] [binary:BoostFromScore]: pavg=0.500000 -> initscore=0.000000\n",
      "[LightGBM] [Info] Start training from score 0.000000\n",
      "[LightGBM] [Info] Number of positive: 240, number of negative: 164880\n",
      "[LightGBM] [Info] Auto-choosing col-wise multi-threading, the overhead of testing was 0.009007 seconds.\n",
      "You can set `force_col_wise=true` to remove the overhead.\n",
      "[LightGBM] [Info] Total Bins 7905\n",
      "[LightGBM] [Info] Number of data points in the train set: 165120, number of used features: 31\n",
      "[LightGBM] [Info] [binary:BoostFromScore]: pavg=0.500000 -> initscore=0.000000\n",
      "[LightGBM] [Info] Start training from score 0.000000\n",
      "[LightGBM] [Info] Number of positive: 240, number of negative: 164880\n",
      "[LightGBM] [Info] Auto-choosing col-wise multi-threading, the overhead of testing was 0.009160 seconds.\n",
      "You can set `force_col_wise=true` to remove the overhead.\n",
      "[LightGBM] [Info] Total Bins 7905\n",
      "[LightGBM] [Info] Number of data points in the train set: 165120, number of used features: 31\n",
      "[LightGBM] [Info] [binary:BoostFromScore]: pavg=0.500000 -> initscore=0.000000\n",
      "[LightGBM] [Info] Start training from score 0.000000\n",
      "[LightGBM] [Info] Number of positive: 240, number of negative: 164880\n",
      "[LightGBM] [Info] Auto-choosing col-wise multi-threading, the overhead of testing was 0.007730 seconds.\n",
      "You can set `force_col_wise=true` to remove the overhead.\n",
      "[LightGBM] [Info] Total Bins 7905\n",
      "[LightGBM] [Info] Number of data points in the train set: 165120, number of used features: 31\n",
      "[LightGBM] [Info] [binary:BoostFromScore]: pavg=0.500000 -> initscore=0.000000\n",
      "[LightGBM] [Info] Start training from score 0.000000\n",
      "[LightGBM] [Info] Number of positive: 240, number of negative: 164880\n",
      "[LightGBM] [Info] Auto-choosing col-wise multi-threading, the overhead of testing was 0.009321 seconds.\n",
      "You can set `force_col_wise=true` to remove the overhead.\n",
      "[LightGBM] [Info] Total Bins 7905\n",
      "[LightGBM] [Info] Number of data points in the train set: 165120, number of used features: 31\n",
      "[LightGBM] [Info] [binary:BoostFromScore]: pavg=0.500000 -> initscore=0.000000\n",
      "[LightGBM] [Info] Start training from score 0.000000\n",
      "AUC с флагом is_outlier : 0.7493\n",
      "AUC после удаления noise: 0.6756\n"
     ]
    }
   ],
   "execution_count": 72
  },
  {
   "metadata": {},
   "cell_type": "markdown",
   "source": [
    "\n",
    "# Вывод\n",
    "\n",
    "* **DBSCAN полезен** — он действительно выделяет богатую мошенничествами подвыборку.\n",
    "* **Но «чистка» ≠ удаление**: шум содержит много нужных примеров.\n",
    "* **Наилучший вариант** для этой задачи — **оставить строки** и дать модели знать об их аномальности (флаг `is_outlier`) либо применить RobustScaler/клиппинг, чтобы смягчить влияние крайних значений."
   ],
   "id": "b5f07044e4a35fa0"
  }
 ],
 "metadata": {
  "kernelspec": {
   "display_name": "Python 3",
   "language": "python",
   "name": "python3"
  },
  "language_info": {
   "codemirror_mode": {
    "name": "ipython",
    "version": 2
   },
   "file_extension": ".py",
   "mimetype": "text/x-python",
   "name": "python",
   "nbconvert_exporter": "python",
   "pygments_lexer": "ipython2",
   "version": "2.7.6"
  }
 },
 "nbformat": 4,
 "nbformat_minor": 5
}
