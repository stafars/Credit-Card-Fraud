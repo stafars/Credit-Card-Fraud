{
  "cells": [
    {
      "cell_type": "markdown",
      "id": "17c08c1c62f89dd8",
      "metadata": {
        "id": "17c08c1c62f89dd8"
      },
      "source": [
        "# Бинарная классификация мошеннических транзакций\n",
        "## Часть 2. Инжиниринг данных и отбор признаков\n",
        "\n",
        "### План\n",
        "\n",
        "1. [Исходные данные]\n",
        "2. [Разделение на train/test]\n",
        "3. [Feature Engineering на train]\n",
        "4. [Отбор признаков на train]\n",
        "5. [Ребалансировка **только** train]\n",
        "6. [Обучение модели]\n",
        "7. [Оценка на **оригинальном** test]\n",
        "\n",
        "\n",
        "\n",
        "\n"
      ]
    },
    {
      "cell_type": "code",
      "execution_count": 84,
      "id": "20fde449",
      "metadata": {
        "id": "20fde449"
      },
      "outputs": [],
      "source": [
        "import pandas as pd\n",
        "import numpy as np\n",
        "from sklearn.cluster import KMeans"
      ]
    },
    {
      "cell_type": "code",
      "execution_count": 85,
      "id": "073d380d",
      "metadata": {
        "id": "073d380d"
      },
      "outputs": [],
      "source": [
        "df_train_scaled = pd.read_csv(\"train_scaled.csv\")\n",
        "df_original_test = pd.read_csv(\"test_scaled.csv\")"
      ]
    },
    {
      "cell_type": "markdown",
      "source": [
        "### Train Test Split"
      ],
      "metadata": {
        "id": "aWIGwYL_Hmz7"
      },
      "id": "aWIGwYL_Hmz7"
    },
    {
      "cell_type": "code",
      "source": [
        "X = df_train_scaled.drop(columns=['Class'])\n",
        "y = df_train_scaled['Class']\n",
        "\n",
        "X_train, X_test, y_train, y_test = train_test_split(\n",
        "    X, y,\n",
        "    test_size=0.2,\n",
        "    random_state=42,\n",
        "    stratify=y  # стратификация!\n",
        ")"
      ],
      "metadata": {
        "id": "FIz2CwFpHsAx"
      },
      "id": "FIz2CwFpHsAx",
      "execution_count": 86,
      "outputs": []
    },
    {
      "cell_type": "markdown",
      "id": "6152e66f",
      "metadata": {
        "id": "6152e66f"
      },
      "source": [
        "### Инжиниринг новых признаков на тренировочных данных"
      ]
    },
    {
      "cell_type": "code",
      "execution_count": 87,
      "id": "8c6c32e2d40b854b",
      "metadata": {
        "id": "8c6c32e2d40b854b"
      },
      "outputs": [],
      "source": [
        "# Взаимодействия и полиномы\n",
        "X_train['V6_V27'] = X_train['V6'] * X_train['V27']\n",
        "X_train['Amount_sq'] = X_train['Amount'] ** 2\n",
        "\n",
        "# Бинарные маркеры выбросов (3σ)\n",
        "for col in ['V6', 'Amount']:\n",
        "    X_train[f'IsOutlier_{col}'] = (np.abs(X_train[col]) > 3).astype(int)\n",
        "\n",
        "# Добавим\n",
        "train_std = {'V6': X_train['V6'].std(), 'Amount': X_train['Amount'].std()}\n",
        "\n",
        "# Логарифмирование суммы\n",
        "X_train['Log_Amount'] = np.log1p(X_train['Amount'])\n",
        "\n",
        "# Кластеризация K-means\n",
        "kmeans = KMeans(n_clusters=5, random_state=42)\n",
        "kmeans.fit(X_train[['V6', 'V20', 'V23', 'V27']])\n",
        "X_train['Cluster'] = kmeans.predict(X_train[['V6', 'V20', 'V23', 'V27']])"
      ]
    },
    {
      "cell_type": "markdown",
      "id": "36385148",
      "metadata": {
        "id": "36385148"
      },
      "source": [
        "### Инжиниринг новых признаков на валидационных данных"
      ]
    },
    {
      "cell_type": "code",
      "execution_count": 88,
      "id": "1d871271",
      "metadata": {
        "id": "1d871271"
      },
      "outputs": [],
      "source": [
        "X_test['V6_V27'] = X_test['V6'] * X_test['V27']\n",
        "X_test['Amount_sq'] = X_test['Amount'] ** 2\n",
        "\n",
        "# Бинарные маркеры выбросов. Обратить внимание на порог `> 3 * train_std[col]`\n",
        "for col in ['V6', 'Amount']:\n",
        "    X_test[f'IsOutlier_{col}'] = (np.abs(X_test[col]) > 3 * train_std[col]).astype(int)\n",
        "\n",
        "# Логарифмирование суммы\n",
        "X_test['Log_Amount'] = np.log1p(X_test['Amount'])\n",
        "\n",
        "# Кластеризация (используем обученный кластеризатор!)\n",
        "X_test['Cluster'] = kmeans.predict(X_test[['V6', 'V20', 'V23', 'V27']])"
      ]
    },
    {
      "cell_type": "markdown",
      "source": [
        "### Инжиниринг новых признаков на тестовых данных"
      ],
      "metadata": {
        "id": "qdqEUJAwC1vc"
      },
      "id": "qdqEUJAwC1vc"
    },
    {
      "cell_type": "code",
      "source": [
        "df_original_test['V6_V27'] = df_original_test['V6'] * df_original_test['V27']\n",
        "df_original_test['Amount_sq'] = df_original_test['Amount'] ** 2\n",
        "\n",
        "for col in ['V6', 'Amount']:\n",
        "    df_original_test[f'IsOutlier_{col}'] = (np.abs(df_original_test[col]) > 3 * train_std[col]).astype(int)\n",
        "\n",
        "df_original_test['Log_Amount'] = np.log1p(df_original_test['Amount'])\n",
        "df_original_test['Cluster'] = kmeans.predict(df_original_test[['V6', 'V20', 'V23', 'V27']])"
      ],
      "metadata": {
        "id": "Le_7DjTOCbB9"
      },
      "id": "Le_7DjTOCbB9",
      "execution_count": 89,
      "outputs": []
    },
    {
      "cell_type": "markdown",
      "id": "rve_CUGToeY-",
      "metadata": {
        "id": "rve_CUGToeY-"
      },
      "source": [
        "**Итог**: взаимодействия (`V6_V27`), полиномы (`Amount_sq`), бинарные маркеры выбросов (`IsOutlier_V6`), логарифмированная сумма (`Log_Amount`) и кластеры (`Cluster`) — созданы для выявления нелинейных зависимостей и аномалий."
      ]
    },
    {
      "cell_type": "markdown",
      "id": "2aceba91",
      "metadata": {
        "id": "2aceba91"
      },
      "source": [
        "### Отбор признаков"
      ]
    },
    {
      "cell_type": "code",
      "execution_count": 90,
      "id": "bNd_6p9rs3Ts",
      "metadata": {
        "id": "bNd_6p9rs3Ts"
      },
      "outputs": [],
      "source": [
        "from lightgbm import LGBMClassifier\n",
        "from sklearn.linear_model import LogisticRegression\n",
        "from sklearn.feature_selection import SelectFromModel\n",
        "from sklearn.model_selection import train_test_split"
      ]
    },
    {
      "cell_type": "code",
      "execution_count": 91,
      "id": "TGfTgoOFs-C_",
      "metadata": {
        "colab": {
          "base_uri": "https://localhost:8080/"
        },
        "id": "TGfTgoOFs-C_",
        "outputId": "d37e5712-7fa4-4731-af21-973539eada37"
      },
      "outputs": [
        {
          "output_type": "stream",
          "name": "stdout",
          "text": [
            "[LightGBM] [Info] Number of positive: 375, number of negative: 174928\n",
            "[LightGBM] [Info] Auto-choosing col-wise multi-threading, the overhead of testing was 0.075353 seconds.\n",
            "You can set `force_col_wise=true` to remove the overhead.\n",
            "[LightGBM] [Info] Total Bins 8424\n",
            "[LightGBM] [Info] Number of data points in the train set: 175303, number of used features: 36\n",
            "[LightGBM] [Info] [binary:BoostFromScore]: pavg=0.500000 -> initscore=0.000000\n",
            "[LightGBM] [Info] Start training from score 0.000000\n"
          ]
        }
      ],
      "source": [
        "# LightGBM Feature Importance\n",
        "lgb = LGBMClassifier(random_state=42, class_weight='balanced')\n",
        "lgb.fit(X_train, y_train)\n",
        "importance = pd.Series(lgb.feature_importances_, index=X_train.columns)\n",
        "selected_features_imp = importance.nlargest(15).index.tolist()"
      ]
    },
    {
      "cell_type": "code",
      "execution_count": 92,
      "id": "shqIYYKetAqp",
      "metadata": {
        "id": "shqIYYKetAqp"
      },
      "outputs": [],
      "source": [
        "# L1-регуляризация\n",
        "# selector = SelectFromModel(\n",
        "#     estimator=LogisticRegression(\n",
        "#         penalty='l1',\n",
        "#         solver='saga',\n",
        "#         class_weight='balanced',\n",
        "#         max_iter=500,\n",
        "#         random_state=42\n",
        "#     ),\n",
        "#     threshold=\"median\"\n",
        "# )\n",
        "\n"
      ]
    },
    {
      "cell_type": "code",
      "execution_count": 93,
      "id": "ogc49OdKZv8g",
      "metadata": {
        "id": "ogc49OdKZv8g"
      },
      "outputs": [],
      "source": [
        "# selector.fit(X_train, y_train)\n",
        "# selected_features_l1 = X.columns[selector.get_support()]"
      ]
    },
    {
      "cell_type": "code",
      "execution_count": 94,
      "id": "P6k6XWhGZxON",
      "metadata": {
        "id": "P6k6XWhGZxON"
      },
      "outputs": [],
      "source": [
        "# print(\"Выбрано признаков:\", sum(selector.get_support()))"
      ]
    },
    {
      "cell_type": "markdown",
      "id": "DMB6kpZ7oqA3",
      "metadata": {
        "id": "DMB6kpZ7oqA3"
      },
      "source": [
        "**Методы отбора**:\n",
        "*Feature Importance* (LightGBM) и [~L1-регуляризация~] — выбрали признаки с наибольшим влиянием на целевую переменную и устранили мультиколлинеарность."
      ]
    },
    {
      "cell_type": "code",
      "execution_count": 95,
      "id": "Z6P_3yznUWL5",
      "metadata": {
        "id": "Z6P_3yznUWL5",
        "colab": {
          "base_uri": "https://localhost:8080/"
        },
        "outputId": "31a8c104-4e18-4d14-d89b-950baea208b2"
      },
      "outputs": [
        {
          "output_type": "execute_result",
          "data": {
            "text/plain": [
              "['V6_V27',\n",
              " 'Cluster',\n",
              " 'V8',\n",
              " 'V21',\n",
              " 'V22',\n",
              " 'V12',\n",
              " 'V9',\n",
              " 'V16',\n",
              " 'V14',\n",
              " 'V7',\n",
              " 'Amount_sq',\n",
              " 'IsOutlier_V6',\n",
              " 'V4',\n",
              " 'V20',\n",
              " 'V18',\n",
              " 'V6',\n",
              " 'V3',\n",
              " 'V26']"
            ]
          },
          "metadata": {},
          "execution_count": 95
        }
      ],
      "source": [
        "# Итоговый выбор / объединение признаков\n",
        "final_features = list(\n",
        "    set(selected_features_imp) |\n",
        "    # set(selected_features_l1) |\n",
        "    {'V6_V27', 'Cluster', 'IsOutlier_V6'}\n",
        ")\n",
        "final_features"
      ]
    },
    {
      "cell_type": "markdown",
      "id": "2w9DZHhCoth6",
      "metadata": {
        "id": "2w9DZHhCoth6"
      },
      "source": [
        "**В итоговый датасет вошли**: `V6_V27`, `Cluster`, `IsOutlier_V6`, а также ключевые исходные признаки ( `V3`, `V14` и др.), как наиболее значимые для разделения классов"
      ]
    },
    {
      "cell_type": "code",
      "execution_count": 96,
      "id": "iWIoToEEUYZo",
      "metadata": {
        "id": "iWIoToEEUYZo"
      },
      "outputs": [],
      "source": [
        "import json\n",
        "\n",
        "missing_in_train = set(final_features) - set(X_train.columns)\n",
        "missing_in_test = set(final_features) - set(X_test.columns)\n",
        "\n",
        "if missing_in_train:\n",
        "    raise ValueError(f\"Признаки отсутствуют в трейне: {missing_in_train}\")\n",
        "if missing_in_test:\n",
        "    raise ValueError(f\"Признаки отсутствуют в тесте: {missing_in_test}\")\n",
        "\n",
        "X_train_final = X_train[final_features]\n",
        "X_test_final = X_test[final_features]\n",
        "\n",
        "# Внесение изменений в оригинальный test dataset\n",
        "df_original_test = df_original_test[final_features]\n",
        "df_original_test.to_csv(\"test_feat_select.csv\", index=False)"
      ]
    },
    {
      "cell_type": "code",
      "execution_count": 97,
      "id": "e5d721c1",
      "metadata": {
        "id": "e5d721c1"
      },
      "outputs": [],
      "source": [
        "# Сохранение датасета с отобранными признаками\n",
        "train_df = pd.concat([X_train_final, y_train], axis=1)\n",
        "test_df = pd.concat([X_test_final, y_test], axis=1)\n",
        "final_df = pd.concat([train_df, test_df], axis=0)\n",
        "final_df.to_csv(\"train_feat_select.csv\", index=False)\n",
        "\n",
        "# Сохранение списка признаков\n",
        "with open('selected_features.json', 'w') as f:\n",
        "    json.dump(list(final_features), f)"
      ]
    },
    {
      "cell_type": "code",
      "execution_count": 98,
      "id": "7430c328",
      "metadata": {
        "id": "7430c328"
      },
      "outputs": [],
      "source": [
        "del X_train_final, X_test_final, df_train_scaled, df_test_scaled, train_df, test_df, final_df"
      ]
    },
    {
      "cell_type": "markdown",
      "id": "5bb601e1",
      "metadata": {
        "id": "5bb601e1"
      },
      "source": [
        "## Логистическая регрессия"
      ]
    },
    {
      "cell_type": "code",
      "execution_count": 99,
      "id": "96e871e1",
      "metadata": {
        "id": "96e871e1"
      },
      "outputs": [],
      "source": [
        "import pandas as pd\n",
        "\n",
        "from sklearn.linear_model import LogisticRegression\n",
        "from sklearn.model_selection import GridSearchCV\n",
        "from sklearn.metrics import accuracy_score, f1_score\n",
        "from sklearn.model_selection import train_test_split\n",
        "from imblearn.pipeline import Pipeline\n",
        "from sklearn.metrics import classification_report\n",
        "from imblearn.over_sampling import SMOTE"
      ]
    },
    {
      "cell_type": "code",
      "execution_count": 100,
      "id": "5bdb2351",
      "metadata": {
        "id": "5bdb2351"
      },
      "outputs": [],
      "source": [
        "df = pd.read_csv(\"train_feat_select.csv\")\n",
        "X = df.drop(columns=['Class'])\n",
        "y = df['Class']"
      ]
    },
    {
      "cell_type": "code",
      "execution_count": 101,
      "id": "b0ea5655",
      "metadata": {
        "id": "b0ea5655"
      },
      "outputs": [],
      "source": [
        "X_train, X_test, y_train, y_test = train_test_split(\n",
        "    X, y,\n",
        "    test_size=0.2,\n",
        "    random_state=42,\n",
        "    stratify=y  # стратификация для баланса классов\n",
        ")"
      ]
    },
    {
      "cell_type": "markdown",
      "source": [
        "### Ребалансировка классов"
      ],
      "metadata": {
        "id": "2rhMOAAwp8KW"
      },
      "id": "2rhMOAAwp8KW"
    },
    {
      "cell_type": "code",
      "source": [
        "from imblearn.over_sampling import SMOTE\n",
        "from imblearn.under_sampling import RandomUnderSampler\n",
        "from imblearn.pipeline import Pipeline\n",
        "\n",
        "over = SMOTE(sampling_strategy=0.1, random_state=42)  # Доводим до 10% меньшего класса\n",
        "under = RandomUnderSampler(sampling_strategy=0.5)     # Затем уменьшаем больший класс до соотношения 1:2\n",
        "\n",
        "pipeline = Pipeline([\n",
        "    ('o', over),\n",
        "    ('u', under)\n",
        "])\n",
        "\n",
        "X_train_resampled, y_train_resampled = pipeline.fit_resample(X_train, y_train)"
      ],
      "metadata": {
        "id": "nhrCGWZTqAQ3"
      },
      "id": "nhrCGWZTqAQ3",
      "execution_count": 102,
      "outputs": []
    },
    {
      "cell_type": "code",
      "execution_count": 103,
      "id": "39c0cc41",
      "metadata": {
        "id": "39c0cc41"
      },
      "outputs": [],
      "source": [
        "lr_model = LogisticRegression(\n",
        "    solver=\"saga\",\n",
        "    class_weight=\"balanced\",\n",
        "    tol=1e-2,\n",
        "    max_iter=500,\n",
        "    random_state=42\n",
        ")\n",
        "\n",
        "param_grid = {\n",
        "    \"penalty\": [\"l1\", \"l2\"],\n",
        "    \"C\": [0.01, 0.1, 1.0],  # Сила регуляризации\n",
        "    \"solver\": [\"liblinear\", \"saga\"]  # Для L1/L2\n",
        "}\n",
        "\n",
        "grid_search = GridSearchCV(\n",
        "    estimator=lr_model,\n",
        "    param_grid=param_grid,\n",
        "    cv=5,\n",
        "    scoring=\"recall\",\n",
        "    n_jobs=-1\n",
        ")"
      ]
    },
    {
      "cell_type": "code",
      "source": [
        "# Обучение на тренировочных данных\n",
        "grid_search.fit(X_train_resampled, y_train_resampled)"
      ],
      "metadata": {
        "colab": {
          "base_uri": "https://localhost:8080/",
          "height": 228
        },
        "id": "hkqErRyOgP1g",
        "outputId": "60d2ed8d-5435-42cf-92ae-6831b1149a3e"
      },
      "id": "hkqErRyOgP1g",
      "execution_count": 104,
      "outputs": [
        {
          "output_type": "execute_result",
          "data": {
            "text/plain": [
              "GridSearchCV(cv=5,\n",
              "             estimator=LogisticRegression(class_weight='balanced', max_iter=500,\n",
              "                                          random_state=42, solver='saga',\n",
              "                                          tol=0.01),\n",
              "             n_jobs=-1,\n",
              "             param_grid={'C': [0.01, 0.1, 1.0], 'penalty': ['l1', 'l2'],\n",
              "                         'solver': ['liblinear', 'saga']},\n",
              "             scoring='recall')"
            ],
            "text/html": [
              "<style>#sk-container-id-4 {\n",
              "  /* Definition of color scheme common for light and dark mode */\n",
              "  --sklearn-color-text: #000;\n",
              "  --sklearn-color-text-muted: #666;\n",
              "  --sklearn-color-line: gray;\n",
              "  /* Definition of color scheme for unfitted estimators */\n",
              "  --sklearn-color-unfitted-level-0: #fff5e6;\n",
              "  --sklearn-color-unfitted-level-1: #f6e4d2;\n",
              "  --sklearn-color-unfitted-level-2: #ffe0b3;\n",
              "  --sklearn-color-unfitted-level-3: chocolate;\n",
              "  /* Definition of color scheme for fitted estimators */\n",
              "  --sklearn-color-fitted-level-0: #f0f8ff;\n",
              "  --sklearn-color-fitted-level-1: #d4ebff;\n",
              "  --sklearn-color-fitted-level-2: #b3dbfd;\n",
              "  --sklearn-color-fitted-level-3: cornflowerblue;\n",
              "\n",
              "  /* Specific color for light theme */\n",
              "  --sklearn-color-text-on-default-background: var(--sg-text-color, var(--theme-code-foreground, var(--jp-content-font-color1, black)));\n",
              "  --sklearn-color-background: var(--sg-background-color, var(--theme-background, var(--jp-layout-color0, white)));\n",
              "  --sklearn-color-border-box: var(--sg-text-color, var(--theme-code-foreground, var(--jp-content-font-color1, black)));\n",
              "  --sklearn-color-icon: #696969;\n",
              "\n",
              "  @media (prefers-color-scheme: dark) {\n",
              "    /* Redefinition of color scheme for dark theme */\n",
              "    --sklearn-color-text-on-default-background: var(--sg-text-color, var(--theme-code-foreground, var(--jp-content-font-color1, white)));\n",
              "    --sklearn-color-background: var(--sg-background-color, var(--theme-background, var(--jp-layout-color0, #111)));\n",
              "    --sklearn-color-border-box: var(--sg-text-color, var(--theme-code-foreground, var(--jp-content-font-color1, white)));\n",
              "    --sklearn-color-icon: #878787;\n",
              "  }\n",
              "}\n",
              "\n",
              "#sk-container-id-4 {\n",
              "  color: var(--sklearn-color-text);\n",
              "}\n",
              "\n",
              "#sk-container-id-4 pre {\n",
              "  padding: 0;\n",
              "}\n",
              "\n",
              "#sk-container-id-4 input.sk-hidden--visually {\n",
              "  border: 0;\n",
              "  clip: rect(1px 1px 1px 1px);\n",
              "  clip: rect(1px, 1px, 1px, 1px);\n",
              "  height: 1px;\n",
              "  margin: -1px;\n",
              "  overflow: hidden;\n",
              "  padding: 0;\n",
              "  position: absolute;\n",
              "  width: 1px;\n",
              "}\n",
              "\n",
              "#sk-container-id-4 div.sk-dashed-wrapped {\n",
              "  border: 1px dashed var(--sklearn-color-line);\n",
              "  margin: 0 0.4em 0.5em 0.4em;\n",
              "  box-sizing: border-box;\n",
              "  padding-bottom: 0.4em;\n",
              "  background-color: var(--sklearn-color-background);\n",
              "}\n",
              "\n",
              "#sk-container-id-4 div.sk-container {\n",
              "  /* jupyter's `normalize.less` sets `[hidden] { display: none; }`\n",
              "     but bootstrap.min.css set `[hidden] { display: none !important; }`\n",
              "     so we also need the `!important` here to be able to override the\n",
              "     default hidden behavior on the sphinx rendered scikit-learn.org.\n",
              "     See: https://github.com/scikit-learn/scikit-learn/issues/21755 */\n",
              "  display: inline-block !important;\n",
              "  position: relative;\n",
              "}\n",
              "\n",
              "#sk-container-id-4 div.sk-text-repr-fallback {\n",
              "  display: none;\n",
              "}\n",
              "\n",
              "div.sk-parallel-item,\n",
              "div.sk-serial,\n",
              "div.sk-item {\n",
              "  /* draw centered vertical line to link estimators */\n",
              "  background-image: linear-gradient(var(--sklearn-color-text-on-default-background), var(--sklearn-color-text-on-default-background));\n",
              "  background-size: 2px 100%;\n",
              "  background-repeat: no-repeat;\n",
              "  background-position: center center;\n",
              "}\n",
              "\n",
              "/* Parallel-specific style estimator block */\n",
              "\n",
              "#sk-container-id-4 div.sk-parallel-item::after {\n",
              "  content: \"\";\n",
              "  width: 100%;\n",
              "  border-bottom: 2px solid var(--sklearn-color-text-on-default-background);\n",
              "  flex-grow: 1;\n",
              "}\n",
              "\n",
              "#sk-container-id-4 div.sk-parallel {\n",
              "  display: flex;\n",
              "  align-items: stretch;\n",
              "  justify-content: center;\n",
              "  background-color: var(--sklearn-color-background);\n",
              "  position: relative;\n",
              "}\n",
              "\n",
              "#sk-container-id-4 div.sk-parallel-item {\n",
              "  display: flex;\n",
              "  flex-direction: column;\n",
              "}\n",
              "\n",
              "#sk-container-id-4 div.sk-parallel-item:first-child::after {\n",
              "  align-self: flex-end;\n",
              "  width: 50%;\n",
              "}\n",
              "\n",
              "#sk-container-id-4 div.sk-parallel-item:last-child::after {\n",
              "  align-self: flex-start;\n",
              "  width: 50%;\n",
              "}\n",
              "\n",
              "#sk-container-id-4 div.sk-parallel-item:only-child::after {\n",
              "  width: 0;\n",
              "}\n",
              "\n",
              "/* Serial-specific style estimator block */\n",
              "\n",
              "#sk-container-id-4 div.sk-serial {\n",
              "  display: flex;\n",
              "  flex-direction: column;\n",
              "  align-items: center;\n",
              "  background-color: var(--sklearn-color-background);\n",
              "  padding-right: 1em;\n",
              "  padding-left: 1em;\n",
              "}\n",
              "\n",
              "\n",
              "/* Toggleable style: style used for estimator/Pipeline/ColumnTransformer box that is\n",
              "clickable and can be expanded/collapsed.\n",
              "- Pipeline and ColumnTransformer use this feature and define the default style\n",
              "- Estimators will overwrite some part of the style using the `sk-estimator` class\n",
              "*/\n",
              "\n",
              "/* Pipeline and ColumnTransformer style (default) */\n",
              "\n",
              "#sk-container-id-4 div.sk-toggleable {\n",
              "  /* Default theme specific background. It is overwritten whether we have a\n",
              "  specific estimator or a Pipeline/ColumnTransformer */\n",
              "  background-color: var(--sklearn-color-background);\n",
              "}\n",
              "\n",
              "/* Toggleable label */\n",
              "#sk-container-id-4 label.sk-toggleable__label {\n",
              "  cursor: pointer;\n",
              "  display: flex;\n",
              "  width: 100%;\n",
              "  margin-bottom: 0;\n",
              "  padding: 0.5em;\n",
              "  box-sizing: border-box;\n",
              "  text-align: center;\n",
              "  align-items: start;\n",
              "  justify-content: space-between;\n",
              "  gap: 0.5em;\n",
              "}\n",
              "\n",
              "#sk-container-id-4 label.sk-toggleable__label .caption {\n",
              "  font-size: 0.6rem;\n",
              "  font-weight: lighter;\n",
              "  color: var(--sklearn-color-text-muted);\n",
              "}\n",
              "\n",
              "#sk-container-id-4 label.sk-toggleable__label-arrow:before {\n",
              "  /* Arrow on the left of the label */\n",
              "  content: \"▸\";\n",
              "  float: left;\n",
              "  margin-right: 0.25em;\n",
              "  color: var(--sklearn-color-icon);\n",
              "}\n",
              "\n",
              "#sk-container-id-4 label.sk-toggleable__label-arrow:hover:before {\n",
              "  color: var(--sklearn-color-text);\n",
              "}\n",
              "\n",
              "/* Toggleable content - dropdown */\n",
              "\n",
              "#sk-container-id-4 div.sk-toggleable__content {\n",
              "  max-height: 0;\n",
              "  max-width: 0;\n",
              "  overflow: hidden;\n",
              "  text-align: left;\n",
              "  /* unfitted */\n",
              "  background-color: var(--sklearn-color-unfitted-level-0);\n",
              "}\n",
              "\n",
              "#sk-container-id-4 div.sk-toggleable__content.fitted {\n",
              "  /* fitted */\n",
              "  background-color: var(--sklearn-color-fitted-level-0);\n",
              "}\n",
              "\n",
              "#sk-container-id-4 div.sk-toggleable__content pre {\n",
              "  margin: 0.2em;\n",
              "  border-radius: 0.25em;\n",
              "  color: var(--sklearn-color-text);\n",
              "  /* unfitted */\n",
              "  background-color: var(--sklearn-color-unfitted-level-0);\n",
              "}\n",
              "\n",
              "#sk-container-id-4 div.sk-toggleable__content.fitted pre {\n",
              "  /* unfitted */\n",
              "  background-color: var(--sklearn-color-fitted-level-0);\n",
              "}\n",
              "\n",
              "#sk-container-id-4 input.sk-toggleable__control:checked~div.sk-toggleable__content {\n",
              "  /* Expand drop-down */\n",
              "  max-height: 200px;\n",
              "  max-width: 100%;\n",
              "  overflow: auto;\n",
              "}\n",
              "\n",
              "#sk-container-id-4 input.sk-toggleable__control:checked~label.sk-toggleable__label-arrow:before {\n",
              "  content: \"▾\";\n",
              "}\n",
              "\n",
              "/* Pipeline/ColumnTransformer-specific style */\n",
              "\n",
              "#sk-container-id-4 div.sk-label input.sk-toggleable__control:checked~label.sk-toggleable__label {\n",
              "  color: var(--sklearn-color-text);\n",
              "  background-color: var(--sklearn-color-unfitted-level-2);\n",
              "}\n",
              "\n",
              "#sk-container-id-4 div.sk-label.fitted input.sk-toggleable__control:checked~label.sk-toggleable__label {\n",
              "  background-color: var(--sklearn-color-fitted-level-2);\n",
              "}\n",
              "\n",
              "/* Estimator-specific style */\n",
              "\n",
              "/* Colorize estimator box */\n",
              "#sk-container-id-4 div.sk-estimator input.sk-toggleable__control:checked~label.sk-toggleable__label {\n",
              "  /* unfitted */\n",
              "  background-color: var(--sklearn-color-unfitted-level-2);\n",
              "}\n",
              "\n",
              "#sk-container-id-4 div.sk-estimator.fitted input.sk-toggleable__control:checked~label.sk-toggleable__label {\n",
              "  /* fitted */\n",
              "  background-color: var(--sklearn-color-fitted-level-2);\n",
              "}\n",
              "\n",
              "#sk-container-id-4 div.sk-label label.sk-toggleable__label,\n",
              "#sk-container-id-4 div.sk-label label {\n",
              "  /* The background is the default theme color */\n",
              "  color: var(--sklearn-color-text-on-default-background);\n",
              "}\n",
              "\n",
              "/* On hover, darken the color of the background */\n",
              "#sk-container-id-4 div.sk-label:hover label.sk-toggleable__label {\n",
              "  color: var(--sklearn-color-text);\n",
              "  background-color: var(--sklearn-color-unfitted-level-2);\n",
              "}\n",
              "\n",
              "/* Label box, darken color on hover, fitted */\n",
              "#sk-container-id-4 div.sk-label.fitted:hover label.sk-toggleable__label.fitted {\n",
              "  color: var(--sklearn-color-text);\n",
              "  background-color: var(--sklearn-color-fitted-level-2);\n",
              "}\n",
              "\n",
              "/* Estimator label */\n",
              "\n",
              "#sk-container-id-4 div.sk-label label {\n",
              "  font-family: monospace;\n",
              "  font-weight: bold;\n",
              "  display: inline-block;\n",
              "  line-height: 1.2em;\n",
              "}\n",
              "\n",
              "#sk-container-id-4 div.sk-label-container {\n",
              "  text-align: center;\n",
              "}\n",
              "\n",
              "/* Estimator-specific */\n",
              "#sk-container-id-4 div.sk-estimator {\n",
              "  font-family: monospace;\n",
              "  border: 1px dotted var(--sklearn-color-border-box);\n",
              "  border-radius: 0.25em;\n",
              "  box-sizing: border-box;\n",
              "  margin-bottom: 0.5em;\n",
              "  /* unfitted */\n",
              "  background-color: var(--sklearn-color-unfitted-level-0);\n",
              "}\n",
              "\n",
              "#sk-container-id-4 div.sk-estimator.fitted {\n",
              "  /* fitted */\n",
              "  background-color: var(--sklearn-color-fitted-level-0);\n",
              "}\n",
              "\n",
              "/* on hover */\n",
              "#sk-container-id-4 div.sk-estimator:hover {\n",
              "  /* unfitted */\n",
              "  background-color: var(--sklearn-color-unfitted-level-2);\n",
              "}\n",
              "\n",
              "#sk-container-id-4 div.sk-estimator.fitted:hover {\n",
              "  /* fitted */\n",
              "  background-color: var(--sklearn-color-fitted-level-2);\n",
              "}\n",
              "\n",
              "/* Specification for estimator info (e.g. \"i\" and \"?\") */\n",
              "\n",
              "/* Common style for \"i\" and \"?\" */\n",
              "\n",
              ".sk-estimator-doc-link,\n",
              "a:link.sk-estimator-doc-link,\n",
              "a:visited.sk-estimator-doc-link {\n",
              "  float: right;\n",
              "  font-size: smaller;\n",
              "  line-height: 1em;\n",
              "  font-family: monospace;\n",
              "  background-color: var(--sklearn-color-background);\n",
              "  border-radius: 1em;\n",
              "  height: 1em;\n",
              "  width: 1em;\n",
              "  text-decoration: none !important;\n",
              "  margin-left: 0.5em;\n",
              "  text-align: center;\n",
              "  /* unfitted */\n",
              "  border: var(--sklearn-color-unfitted-level-1) 1pt solid;\n",
              "  color: var(--sklearn-color-unfitted-level-1);\n",
              "}\n",
              "\n",
              ".sk-estimator-doc-link.fitted,\n",
              "a:link.sk-estimator-doc-link.fitted,\n",
              "a:visited.sk-estimator-doc-link.fitted {\n",
              "  /* fitted */\n",
              "  border: var(--sklearn-color-fitted-level-1) 1pt solid;\n",
              "  color: var(--sklearn-color-fitted-level-1);\n",
              "}\n",
              "\n",
              "/* On hover */\n",
              "div.sk-estimator:hover .sk-estimator-doc-link:hover,\n",
              ".sk-estimator-doc-link:hover,\n",
              "div.sk-label-container:hover .sk-estimator-doc-link:hover,\n",
              ".sk-estimator-doc-link:hover {\n",
              "  /* unfitted */\n",
              "  background-color: var(--sklearn-color-unfitted-level-3);\n",
              "  color: var(--sklearn-color-background);\n",
              "  text-decoration: none;\n",
              "}\n",
              "\n",
              "div.sk-estimator.fitted:hover .sk-estimator-doc-link.fitted:hover,\n",
              ".sk-estimator-doc-link.fitted:hover,\n",
              "div.sk-label-container:hover .sk-estimator-doc-link.fitted:hover,\n",
              ".sk-estimator-doc-link.fitted:hover {\n",
              "  /* fitted */\n",
              "  background-color: var(--sklearn-color-fitted-level-3);\n",
              "  color: var(--sklearn-color-background);\n",
              "  text-decoration: none;\n",
              "}\n",
              "\n",
              "/* Span, style for the box shown on hovering the info icon */\n",
              ".sk-estimator-doc-link span {\n",
              "  display: none;\n",
              "  z-index: 9999;\n",
              "  position: relative;\n",
              "  font-weight: normal;\n",
              "  right: .2ex;\n",
              "  padding: .5ex;\n",
              "  margin: .5ex;\n",
              "  width: min-content;\n",
              "  min-width: 20ex;\n",
              "  max-width: 50ex;\n",
              "  color: var(--sklearn-color-text);\n",
              "  box-shadow: 2pt 2pt 4pt #999;\n",
              "  /* unfitted */\n",
              "  background: var(--sklearn-color-unfitted-level-0);\n",
              "  border: .5pt solid var(--sklearn-color-unfitted-level-3);\n",
              "}\n",
              "\n",
              ".sk-estimator-doc-link.fitted span {\n",
              "  /* fitted */\n",
              "  background: var(--sklearn-color-fitted-level-0);\n",
              "  border: var(--sklearn-color-fitted-level-3);\n",
              "}\n",
              "\n",
              ".sk-estimator-doc-link:hover span {\n",
              "  display: block;\n",
              "}\n",
              "\n",
              "/* \"?\"-specific style due to the `<a>` HTML tag */\n",
              "\n",
              "#sk-container-id-4 a.estimator_doc_link {\n",
              "  float: right;\n",
              "  font-size: 1rem;\n",
              "  line-height: 1em;\n",
              "  font-family: monospace;\n",
              "  background-color: var(--sklearn-color-background);\n",
              "  border-radius: 1rem;\n",
              "  height: 1rem;\n",
              "  width: 1rem;\n",
              "  text-decoration: none;\n",
              "  /* unfitted */\n",
              "  color: var(--sklearn-color-unfitted-level-1);\n",
              "  border: var(--sklearn-color-unfitted-level-1) 1pt solid;\n",
              "}\n",
              "\n",
              "#sk-container-id-4 a.estimator_doc_link.fitted {\n",
              "  /* fitted */\n",
              "  border: var(--sklearn-color-fitted-level-1) 1pt solid;\n",
              "  color: var(--sklearn-color-fitted-level-1);\n",
              "}\n",
              "\n",
              "/* On hover */\n",
              "#sk-container-id-4 a.estimator_doc_link:hover {\n",
              "  /* unfitted */\n",
              "  background-color: var(--sklearn-color-unfitted-level-3);\n",
              "  color: var(--sklearn-color-background);\n",
              "  text-decoration: none;\n",
              "}\n",
              "\n",
              "#sk-container-id-4 a.estimator_doc_link.fitted:hover {\n",
              "  /* fitted */\n",
              "  background-color: var(--sklearn-color-fitted-level-3);\n",
              "}\n",
              "</style><div id=\"sk-container-id-4\" class=\"sk-top-container\"><div class=\"sk-text-repr-fallback\"><pre>GridSearchCV(cv=5,\n",
              "             estimator=LogisticRegression(class_weight=&#x27;balanced&#x27;, max_iter=500,\n",
              "                                          random_state=42, solver=&#x27;saga&#x27;,\n",
              "                                          tol=0.01),\n",
              "             n_jobs=-1,\n",
              "             param_grid={&#x27;C&#x27;: [0.01, 0.1, 1.0], &#x27;penalty&#x27;: [&#x27;l1&#x27;, &#x27;l2&#x27;],\n",
              "                         &#x27;solver&#x27;: [&#x27;liblinear&#x27;, &#x27;saga&#x27;]},\n",
              "             scoring=&#x27;recall&#x27;)</pre><b>In a Jupyter environment, please rerun this cell to show the HTML representation or trust the notebook. <br />On GitHub, the HTML representation is unable to render, please try loading this page with nbviewer.org.</b></div><div class=\"sk-container\" hidden><div class=\"sk-item sk-dashed-wrapped\"><div class=\"sk-label-container\"><div class=\"sk-label fitted sk-toggleable\"><input class=\"sk-toggleable__control sk-hidden--visually\" id=\"sk-estimator-id-10\" type=\"checkbox\" ><label for=\"sk-estimator-id-10\" class=\"sk-toggleable__label fitted sk-toggleable__label-arrow\"><div><div>GridSearchCV</div></div><div><a class=\"sk-estimator-doc-link fitted\" rel=\"noreferrer\" target=\"_blank\" href=\"https://scikit-learn.org/1.6/modules/generated/sklearn.model_selection.GridSearchCV.html\">?<span>Documentation for GridSearchCV</span></a><span class=\"sk-estimator-doc-link fitted\">i<span>Fitted</span></span></div></label><div class=\"sk-toggleable__content fitted\"><pre>GridSearchCV(cv=5,\n",
              "             estimator=LogisticRegression(class_weight=&#x27;balanced&#x27;, max_iter=500,\n",
              "                                          random_state=42, solver=&#x27;saga&#x27;,\n",
              "                                          tol=0.01),\n",
              "             n_jobs=-1,\n",
              "             param_grid={&#x27;C&#x27;: [0.01, 0.1, 1.0], &#x27;penalty&#x27;: [&#x27;l1&#x27;, &#x27;l2&#x27;],\n",
              "                         &#x27;solver&#x27;: [&#x27;liblinear&#x27;, &#x27;saga&#x27;]},\n",
              "             scoring=&#x27;recall&#x27;)</pre></div> </div></div><div class=\"sk-parallel\"><div class=\"sk-parallel-item\"><div class=\"sk-item\"><div class=\"sk-label-container\"><div class=\"sk-label fitted sk-toggleable\"><input class=\"sk-toggleable__control sk-hidden--visually\" id=\"sk-estimator-id-11\" type=\"checkbox\" ><label for=\"sk-estimator-id-11\" class=\"sk-toggleable__label fitted sk-toggleable__label-arrow\"><div><div>best_estimator_: LogisticRegression</div></div></label><div class=\"sk-toggleable__content fitted\"><pre>LogisticRegression(C=0.01, class_weight=&#x27;balanced&#x27;, max_iter=500,\n",
              "                   random_state=42, solver=&#x27;saga&#x27;, tol=0.01)</pre></div> </div></div><div class=\"sk-serial\"><div class=\"sk-item\"><div class=\"sk-estimator fitted sk-toggleable\"><input class=\"sk-toggleable__control sk-hidden--visually\" id=\"sk-estimator-id-12\" type=\"checkbox\" ><label for=\"sk-estimator-id-12\" class=\"sk-toggleable__label fitted sk-toggleable__label-arrow\"><div><div>LogisticRegression</div></div><div><a class=\"sk-estimator-doc-link fitted\" rel=\"noreferrer\" target=\"_blank\" href=\"https://scikit-learn.org/1.6/modules/generated/sklearn.linear_model.LogisticRegression.html\">?<span>Documentation for LogisticRegression</span></a></div></label><div class=\"sk-toggleable__content fitted\"><pre>LogisticRegression(C=0.01, class_weight=&#x27;balanced&#x27;, max_iter=500,\n",
              "                   random_state=42, solver=&#x27;saga&#x27;, tol=0.01)</pre></div> </div></div></div></div></div></div></div></div></div>"
            ]
          },
          "metadata": {},
          "execution_count": 104
        }
      ]
    },
    {
      "cell_type": "code",
      "execution_count": 105,
      "id": "5ebb4a4b",
      "metadata": {
        "colab": {
          "base_uri": "https://localhost:8080/"
        },
        "id": "5ebb4a4b",
        "outputId": "2948a911-15bb-4f36-ac90-0a29aa399e4c"
      },
      "outputs": [
        {
          "output_type": "stream",
          "name": "stdout",
          "text": [
            "Лучшие параметры: {'C': 0.01, 'penalty': 'l2', 'solver': 'saga'}\n",
            "Лучшая recall: 0.7758401771575347\n"
          ]
        }
      ],
      "source": [
        "print(\"Лучшие параметры:\", grid_search.best_params_)\n",
        "print(\"Лучшая recall:\", grid_search.best_score_)"
      ]
    },
    {
      "cell_type": "markdown",
      "source": [
        "### Отчёт"
      ],
      "metadata": {
        "id": "uYO6lvbzAOsq"
      },
      "id": "uYO6lvbzAOsq"
    },
    {
      "cell_type": "code",
      "source": [
        "from sklearn.metrics import classification_report\n",
        "\n",
        "y_pred = grid_search.predict(X_test)\n",
        "print(classification_report(y_test, y_pred))"
      ],
      "metadata": {
        "colab": {
          "base_uri": "https://localhost:8080/"
        },
        "id": "JQUfp-6wsCGk",
        "outputId": "0f576c27-2d7e-4da2-a362-ee51abc099c6"
      },
      "id": "JQUfp-6wsCGk",
      "execution_count": 106,
      "outputs": [
        {
          "output_type": "stream",
          "name": "stdout",
          "text": [
            "              precision    recall  f1-score   support\n",
            "\n",
            "           0       1.00      0.68      0.81     43732\n",
            "           1       0.01      0.76      0.01        94\n",
            "\n",
            "    accuracy                           0.68     43826\n",
            "   macro avg       0.50      0.72      0.41     43826\n",
            "weighted avg       1.00      0.68      0.81     43826\n",
            "\n"
          ]
        }
      ]
    },
    {
      "cell_type": "markdown",
      "source": [
        "### Итог:\n",
        "\n",
        "Произведены следующие этапы:\n",
        "\n",
        "1. Разделение на train/test\n",
        "2. Feature Engineering\n",
        "3. Отбор признаков с помощью LightGBM\n",
        "4. Ребалансировка классов в связи с сильным диcбалансом\n",
        "5. Обучение модели логистической регрессии с подбором гиперпараметров через GridSearch, используя scoring=\"recall\"\n",
        "\n"
      ],
      "metadata": {
        "id": "TKgngqJEuoVB"
      },
      "id": "TKgngqJEuoVB"
    },
    {
      "cell_type": "code",
      "source": [],
      "metadata": {
        "id": "3w5jaDgAAi92"
      },
      "id": "3w5jaDgAAi92",
      "execution_count": 106,
      "outputs": []
    }
  ],
  "metadata": {
    "colab": {
      "provenance": []
    },
    "kernelspec": {
      "display_name": ".venv",
      "language": "python",
      "name": "python3"
    },
    "language_info": {
      "codemirror_mode": {
        "name": "ipython",
        "version": 3
      },
      "file_extension": ".py",
      "mimetype": "text/x-python",
      "name": "python",
      "nbconvert_exporter": "python",
      "pygments_lexer": "ipython3",
      "version": "3.12.3"
    }
  },
  "nbformat": 4,
  "nbformat_minor": 5
}